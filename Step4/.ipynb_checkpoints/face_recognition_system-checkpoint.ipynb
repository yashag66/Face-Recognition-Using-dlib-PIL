{
 "cells": [
  {
   "cell_type": "code",
   "execution_count": 18,
   "metadata": {},
   "outputs": [],
   "source": [
    "import face_recognition"
   ]
  },
  {
   "cell_type": "code",
   "execution_count": 19,
   "metadata": {},
   "outputs": [],
   "source": [
    "# Load the known images\n",
    "image_of_person1 = face_recognition.load_image_file(\"person_1.jpg\")\n",
    "image_of_person2 = face_recognition.load_image_file(\"person_2.jpg\")\n",
    "image_of_person3 = face_recognition.load_image_file(\"person_3.jpg\")\n",
    "\n",
    "# Get encoding of each persons image\n",
    "person1_encoding = face_recognition.face_encodings(image_of_person1)[0]\n",
    "person2_encoding = face_recognition.face_encodings(image_of_person2)[0]\n",
    "person3_encoding = face_recognition.face_encodings(image_of_person3)[0]"
   ]
  },
  {
   "cell_type": "code",
   "execution_count": 20,
   "metadata": {},
   "outputs": [],
   "source": [
    "# Create a list of all face encodings\n",
    "known_face_encodings = [\n",
    "    person1_encoding,\n",
    "    person2_encoding,\n",
    "    person3_encoding\n",
    "]"
   ]
  },
  {
   "cell_type": "code",
   "execution_count": 21,
   "metadata": {},
   "outputs": [],
   "source": [
    "# Loading the unknown image\n",
    "unknown_image = face_recognition.load_image_file(\"unknown_2.jpg\")\n",
    "\n",
    "# Get the encoding of unknown image\n",
    "unknown_image_encodings = face_recognition.face_encodings(unknown_image)"
   ]
  },
  {
   "cell_type": "code",
   "execution_count": 22,
   "metadata": {},
   "outputs": [
    {
     "name": "stdout",
     "output_type": "stream",
     "text": [
      "Found Person 2 in the photo!\n",
      "Found Person 1 in the photo!\n",
      "Found Person 3 in the photo!\n"
     ]
    }
   ],
   "source": [
    "for unknown_image_encoding in unknown_image_encodings:\n",
    "    \n",
    "    result = face_recognition.compare_faces(known_face_encodings, unknown_image_encoding, tolerance = 0.6)\n",
    "    \n",
    "    name = \"unknown\"\n",
    "    \n",
    "    if result[0]:\n",
    "        name = \"Person 1\"\n",
    "    elif result[1]:\n",
    "        name = \"Person 2\"\n",
    "    elif result[2]:\n",
    "        name = \"Person 3\"\n",
    "    \n",
    "    print(\"Found {} in the photo!\".format(name))"
   ]
  },
  {
   "cell_type": "code",
   "execution_count": null,
   "metadata": {},
   "outputs": [],
   "source": []
  }
 ],
 "metadata": {
  "kernelspec": {
   "display_name": "Python 2",
   "language": "python",
   "name": "python2"
  },
  "language_info": {
   "codemirror_mode": {
    "name": "ipython",
    "version": 2
   },
   "file_extension": ".py",
   "mimetype": "text/x-python",
   "name": "python",
   "nbconvert_exporter": "python",
   "pygments_lexer": "ipython2",
   "version": "2.7.15"
  }
 },
 "nbformat": 4,
 "nbformat_minor": 2
}
