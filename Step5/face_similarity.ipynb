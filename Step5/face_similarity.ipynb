{
 "cells": [
  {
   "cell_type": "code",
   "execution_count": null,
   "metadata": {},
   "outputs": [],
   "source": [
    "import face_recognition\n",
    "from PIL import Image"
   ]
  },
  {
   "cell_type": "code",
   "execution_count": null,
   "metadata": {},
   "outputs": [],
   "source": [
    "# Load the image of the person we want to find similar people for\n",
    "known_image = face_recognition.load_image_file(\"test_face.jpg\")\n",
    "\n",
    "known_image_encoding = face_recognition.face_encodings(known_image)"
   ]
  },
  {
   "cell_type": "code",
   "execution_count": null,
   "metadata": {},
   "outputs": [],
   "source": [
    "from os import listdir\n",
    "from os.path import isfile, join\n",
    "onlyfiles = [join(\"./people\", f) for f in listdir(\"./people\") if isfile(join(\"./people\", f))]"
   ]
  },
  {
   "cell_type": "code",
   "execution_count": null,
   "metadata": {},
   "outputs": [],
   "source": [
    "best_face_distance = 1.0\n",
    "best_face_image = None"
   ]
  },
  {
   "cell_type": "code",
   "execution_count": null,
   "metadata": {},
   "outputs": [],
   "source": [
    "# Loop over all the images for check the most similar person\n",
    "for image in onlyfiles:\n",
    "    # Load image\n",
    "    unknown_image = face_recognition.load_image_file(image)\n",
    "    \n",
    "    #finding face encodings\n",
    "    face_encodings = face_recognition.face_encodings(unknown_image)\n",
    "    print(face_encodings)\n",
    "    face_distance = face_recognition.face_distance(face_encodings, known_image_encoding)[0]\n",
    "    \n",
    "    # Check for the best similar image\n",
    "    if face_distance < best_face_distance:\n",
    "        # Saving the new face distance\n",
    "        best_face_distance = face_distance\n",
    "        # Saving the new face\n",
    "        best_face_image = unknown_image\n",
    "\n",
    "# Display the best match face image\n",
    "pil_image = Image.fromarray(best_face_image)\n",
    "pil_image.show()"
   ]
  },
  {
   "cell_type": "code",
   "execution_count": null,
   "metadata": {},
   "outputs": [],
   "source": []
  }
 ],
 "metadata": {
  "kernelspec": {
   "display_name": "Python 2",
   "language": "python",
   "name": "python2"
  },
  "language_info": {
   "codemirror_mode": {
    "name": "ipython",
    "version": 2
   },
   "file_extension": ".py",
   "mimetype": "text/x-python",
   "name": "python",
   "nbconvert_exporter": "python",
   "pygments_lexer": "ipython2",
   "version": "2.7.15"
  }
 },
 "nbformat": 4,
 "nbformat_minor": 2
}
